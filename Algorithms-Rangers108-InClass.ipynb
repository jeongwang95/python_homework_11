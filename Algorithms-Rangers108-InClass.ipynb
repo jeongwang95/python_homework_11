{
 "cells": [
  {
   "cell_type": "markdown",
   "metadata": {},
   "source": [
    "# Cl"
   ]
  },
  {
   "cell_type": "markdown",
   "metadata": {},
   "source": [
    "## Tasks Today:\n",
    " \n",
    "1) <b>In-Place Algorithms</b> <br>\n",
    " &nbsp;&nbsp;&nbsp;&nbsp; a) Syntax <br>\n",
    " &nbsp;&nbsp;&nbsp;&nbsp; a) Out of Place Algorithm <br>\n",
    " &nbsp;&nbsp;&nbsp;&nbsp; b) In-Class Exercise #1 <br>\n",
    "2) <b>Two Pointers</b> <br>\n",
    "3) <b>Linked Lists</b> <br>\n",
    "4) <b>Merge Sort</b> <br>\n",
    " &nbsp;&nbsp;&nbsp;&nbsp; a) Video on Algorithms <br>\n",
    " &nbsp;&nbsp;&nbsp;&nbsp; b) How it Works <br>\n",
    "5) <b>Exercises</b> <br>\n",
    " &nbsp;&nbsp;&nbsp;&nbsp; a) Exercise #1 - Reverse a List in Place Using an In-Place Algorithm <br>\n",
    " &nbsp;&nbsp;&nbsp;&nbsp; b) Exercise #2 - Find Distinct Words <br>\n",
    " &nbsp;&nbsp;&nbsp;&nbsp; c) Exercise #3 - Write a program to implement a Linear Search Algorithm. <br>"
   ]
  },
  {
   "cell_type": "markdown",
   "metadata": {},
   "source": [
    "## In-Place Algorithms"
   ]
  },
  {
   "cell_type": "markdown",
   "metadata": {},
   "source": [
    "#### Syntax"
   ]
  },
  {
   "cell_type": "code",
   "execution_count": 2,
   "metadata": {},
   "outputs": [
    {
     "name": "stdout",
     "output_type": "stream",
     "text": [
      "[20, 4, 10]\n",
      "[10, 4, 20]\n"
     ]
    }
   ],
   "source": [
    "# swap locations by index in a list\n",
    "# sometimes known as a swap algorithm\n",
    "# arr[i],arr[i+1] = arr[i+1],arr[i]\n",
    "\n",
    "def swap(lst, x, y, z):\n",
    "    lst[x], lst[y], lst[z] = lst[z], lst[y], lst[x]\n",
    "    return lst\n",
    "\n",
    "my_list = [20, 4, 10]\n",
    "print(\"Before swap:\", my_list)\n",
    "print(\"After swap:\", swap(my_list,0,1,2))"
   ]
  },
  {
   "cell_type": "markdown",
   "metadata": {},
   "source": [
    "#### Out of Place Algorithm"
   ]
  },
  {
   "cell_type": "code",
   "execution_count": 7,
   "metadata": {},
   "outputs": [
    {
     "name": "stdout",
     "output_type": "stream",
     "text": [
      "[10, 4, 20]\n",
      "['a', 'a', 'a', 'a']\n",
      "['d', 'c', 'b', 'a']\n"
     ]
    }
   ],
   "source": [
    "# not swapping, reversing the list\n",
    "# but also copies to another place in memory\n",
    "\n",
    "my_list = [20, 4, 10]\n",
    "\n",
    "my_list_copy = my_list[::-1]\n",
    "print(my_list_copy)\n",
    "\n",
    "arr = ['a', 'b', 'c', 'd']\n",
    "new_arr = ['a'] * len(arr)\n",
    "print(new_arr)\n",
    "\n",
    "length = len(arr) - 1\n",
    "for i in range(length):\n",
    "    new_arr[i] = arr[length-i]\n",
    "print(new_arr)"
   ]
  },
  {
   "cell_type": "markdown",
   "metadata": {},
   "source": [
    "#### In-Class Exercise #1 <br>\n",
    "<p>Write a function that takes in four arguments (list, index1, index2, index3), and swaps those three positions in the list passed in.</p>"
   ]
  },
  {
   "cell_type": "code",
   "execution_count": 12,
   "metadata": {},
   "outputs": [
    {
     "name": "stdout",
     "output_type": "stream",
     "text": [
      "Before: [10, 4, 3, 8, 4, 2, 6]\n",
      "After: [8, 4, 3, 6, 4, 2, 10]\n"
     ]
    }
   ],
   "source": [
    "l_1 = [10, 4, 3, 8, 4, 2, 6]\n",
    "\n",
    "def swap(lst, i, j, k):\n",
    "    lst[i], lst[j], lst[k] = lst[j], lst[k], lst[i]\n",
    "    return lst\n",
    "\n",
    "print(\"Before:\", l_1)\n",
    "print(\"After:\", swap(l_1, 0, len(l_1)//2, len(l_1)-1))"
   ]
  },
  {
   "cell_type": "markdown",
   "metadata": {},
   "source": [
    "## Two Pointers"
   ]
  },
  {
   "cell_type": "markdown",
   "metadata": {},
   "source": [
    "#### Syntax"
   ]
  },
  {
   "cell_type": "code",
   "execution_count": 13,
   "metadata": {},
   "outputs": [
    {
     "name": "stdout",
     "output_type": "stream",
     "text": [
      "[1, 2, 3, 12, 9, 8, 4, 11, 22]\n",
      "[22, 11, 4, 8, 9, 12, 3, 2, 1]\n"
     ]
    }
   ],
   "source": [
    "# alist[left], alist[right] = alist[right], alist[left]\n",
    "\n",
    "def two_pointers(alist):\n",
    "    # create  pointers for our list\n",
    "    left = 0\n",
    "    right = len(alist)-1\n",
    "    \n",
    "    while left <= right:\n",
    "        alist[left],alist[right] = alist[right],alist[left]\n",
    "        left += 1\n",
    "        right -=1\n",
    "    return alist\n",
    "    \n",
    "    \n",
    "my_list = [1,2,3,12,9,8,4,11,22]\n",
    "print(my_list)\n",
    "print(two_pointers(my_list))"
   ]
  },
  {
   "cell_type": "markdown",
   "metadata": {},
   "source": [
    "#### Video of Algorithms <br>\n",
    "<p>Watch the video about algorithms.</p>\n",
    "\n",
    "https://www.youtube.com/watch?v=Q9HjeFD62Uk\n",
    "\n",
    "https://www.youtube.com/watch?v=kPRA0W1kECg\n",
    "\n",
    "https://www.youtube.com/watch?v=ZZuD6iUe3Pc"
   ]
  },
  {
   "cell_type": "markdown",
   "metadata": {},
   "source": [
    "# Sorting Algorithms"
   ]
  },
  {
   "cell_type": "markdown",
   "metadata": {},
   "source": [
    "#### Bubble Sort\n",
    "\n",
    "Worst Case: O(n^2) Time - O(1) Space"
   ]
  },
  {
   "cell_type": "code",
   "execution_count": 18,
   "metadata": {},
   "outputs": [
    {
     "name": "stdout",
     "output_type": "stream",
     "text": [
      "[1, 22, 34, 44, 55, 66, 88, 100]\n"
     ]
    }
   ],
   "source": [
    "def swap(i,j,arr):\n",
    "    arr[i],arr[j] = arr[j],arr[i]\n",
    "    \n",
    "def bubble_sort(arr):\n",
    "    length = len(arr)-1\n",
    "    is_sorted = False\n",
    "    while not is_sorted:\n",
    "        is_sorted = True\n",
    "        for num in range(length):\n",
    "            if arr[num] > arr[num+1]:\n",
    "                swap(num, num+1, arr)\n",
    "                is_sorted = False\n",
    "        length -= 1\n",
    "    return arr\n",
    "\n",
    "my_arr = [22,55,88,44,1,100,34,66]\n",
    "print(bubble_sort(my_arr))"
   ]
  },
  {
   "cell_type": "markdown",
   "metadata": {},
   "source": [
    "##### Insertion Sort\n",
    "\n",
    "Worst Case: O(n^2) time - O(1)space"
   ]
  },
  {
   "cell_type": "code",
   "execution_count": 20,
   "metadata": {},
   "outputs": [
    {
     "name": "stdout",
     "output_type": "stream",
     "text": [
      "[1, 22, 34, 44, 55, 66, 88, 100]\n"
     ]
    }
   ],
   "source": [
    "def swap(i,j,arr):\n",
    "    arr[i],arr[j] = arr[j],arr[i]\n",
    "    \n",
    "def insertion_sort(arr):\n",
    "    for i in range(1,len(arr)): #<--- consider index 0 sorted\n",
    "        # making sure we dont go beyond 0 index\n",
    "        j = i\n",
    "        while j>0 and arr[j] < arr[j-1]:\n",
    "            swap(j,j-1,arr)\n",
    "            j -= 1\n",
    "    return arr\n",
    "\n",
    "my_arr = [100,88,22,55,44,1,34,66]\n",
    "print(insertion_sort(my_arr))"
   ]
  },
  {
   "cell_type": "markdown",
   "metadata": {},
   "source": [
    "## Merge Sort"
   ]
  },
  {
   "cell_type": "markdown",
   "metadata": {},
   "source": [
    "#### How it Works"
   ]
  },
  {
   "cell_type": "code",
   "execution_count": 39,
   "metadata": {},
   "outputs": [
    {
     "name": "stdout",
     "output_type": "stream",
     "text": [
      "Splitting [16, 4, 14, 9, 18, 10, 15]\n",
      "Splitting [16, 4, 14]\n",
      "Splitting [16]\n",
      "Mergin: [16]\n",
      "Splitting [4, 14]\n",
      "Splitting [4]\n",
      "Mergin: [4]\n",
      "Splitting [14]\n",
      "Mergin: [14]\n",
      "Mergin: [4, 14]\n",
      "Mergin: [4, 14, 16]\n",
      "Splitting [9, 18, 10, 15]\n",
      "Splitting [9, 18]\n",
      "Splitting [9]\n",
      "Mergin: [9]\n",
      "Splitting [18]\n",
      "Mergin: [18]\n",
      "Mergin: [9, 18]\n",
      "Splitting [10, 15]\n",
      "Splitting [10]\n",
      "Mergin: [10]\n",
      "Splitting [15]\n",
      "Mergin: [15]\n",
      "Mergin: [10, 15]\n",
      "Mergin: [9, 10, 15, 18]\n",
      "Mergin: [4, 9, 10, 14, 15, 16, 18]\n"
     ]
    },
    {
     "data": {
      "text/plain": [
       "[4, 9, 10, 14, 15, 16, 18]"
      ]
     },
     "execution_count": 39,
     "metadata": {},
     "output_type": "execute_result"
    }
   ],
   "source": [
    "from random import randint\n",
    "\n",
    "nums = [randint(1,20) for i in range(7)]\n",
    "my_array = [100, 88, 22, 55, 44, 1, 34, 66]\n",
    "\n",
    "def merge_sort(lst):\n",
    "    print(\"Splitting\", lst)\n",
    "    \n",
    "    # divide array into equal parts\n",
    "    if len(lst) > 1:\n",
    "        mid = len(lst) // 2\n",
    "        left_half = lst[:mid]\n",
    "        right_half = lst[mid:]\n",
    "        \n",
    "        # recursively call merge_sort to perform splits\n",
    "        merge_sort(left_half)\n",
    "        merge_sort(right_half)\n",
    "        \n",
    "        # index pointers for our list\n",
    "        l = 0 # pointer for left half\n",
    "        r = 0 # pointer for right half\n",
    "        m = 0 # pointer for main arr\n",
    "        \n",
    "        # compare left half and right half\n",
    "        while l < len(left_half) and r < len(right_half):\n",
    "            if left_half[l] < right_half[r]:\n",
    "                lst[m] = left_half[l]\n",
    "                l += 1\n",
    "            else:\n",
    "                lst[m] = right_half[r]\n",
    "                r += 1\n",
    "            m+=1\n",
    "                \n",
    "        # while merging place items in correct position\n",
    "        while l < len(left_half):\n",
    "                lst[m] = left_half[l]\n",
    "                l += 1\n",
    "                m += 1\n",
    "        while r < len(right_half):\n",
    "                lst[m] = right_half[r]\n",
    "                r += 1\n",
    "                m += 1\n",
    "    print(\"Mergin:\", lst)\n",
    "    return lst\n",
    "        \n",
    "merge_sort(nums)"
   ]
  },
  {
   "cell_type": "markdown",
   "metadata": {},
   "source": [
    "# Binary Search\n",
    "\n",
    "The Binary Search algorithm works by finding the number in the middle of a given array and comparing it to the target. Given that the array is sorted\n",
    "\n",
    "* The worst case run time for this algorithm is `O(log(n))`"
   ]
  },
  {
   "cell_type": "code",
   "execution_count": 21,
   "metadata": {},
   "outputs": [
    {
     "name": "stdout",
     "output_type": "stream",
     "text": [
      "The index is...1\n"
     ]
    }
   ],
   "source": [
    "def binary_search(arr, target, left, right):\n",
    "    while left <= right:\n",
    "        middle = (left + right)//2\n",
    "        potential_match = arr[middle]\n",
    "        if target == potential_match:\n",
    "            return f\"The index is...{middle}\"\n",
    "        elif target < potential_match:\n",
    "            right = middle - 1\n",
    "        else:\n",
    "            left = middle + 1\n",
    "    return -1\n",
    "\n",
    "def binary_helper(arr, target):\n",
    "    return binary_search(arr, target, 0, len(arr)-1)\n",
    "\n",
    "print(binary_helper([1, 22, 34, 44, 55, 66, 88, 100], 22))"
   ]
  },
  {
   "cell_type": "markdown",
   "metadata": {},
   "source": [
    "# Exercises"
   ]
  },
  {
   "cell_type": "markdown",
   "metadata": {},
   "source": [
    "### Exercise #1 <br>\n",
    "<p>Reverse the list below in-place using an in-place algorithm.<br>For extra credit: Reverse the strings at the same time.</p>"
   ]
  },
  {
   "cell_type": "code",
   "execution_count": 61,
   "metadata": {},
   "outputs": [
    {
     "name": "stdout",
     "output_type": "stream",
     "text": [
      "['.', 'ecnetnes', 'a', 'si', 'siht']\n"
     ]
    }
   ],
   "source": [
    "words = ['this' , 'is', 'a', 'sentence', '.']\n",
    "def reverse(lst):\n",
    "    left = 0\n",
    "    right = len(lst)-1\n",
    "    while left < right:\n",
    "        lst[left], lst[right]= lst[right][::-1],lst[left][::-1]\n",
    "        left += 1\n",
    "        right -= 1\n",
    "    return lst\n",
    "\n",
    "print(reverse(words))"
   ]
  },
  {
   "cell_type": "markdown",
   "metadata": {},
   "source": [
    "### Exercise #2 <br>\n",
    "<p>Create a function that counts how many distinct words are in the string below, then outputs a dictionary with the words as the key and the value as the amount of times that word appears in the string.<br>Should output:<br>{'a': 5,<br>\n",
    " 'abstract': 1,<br>\n",
    " 'an': 3,<br>\n",
    " 'array': 2, ... etc...</p>"
   ]
  },
  {
   "cell_type": "code",
   "execution_count": 62,
   "metadata": {},
   "outputs": [
    {
     "name": "stdout",
     "output_type": "stream",
     "text": [
      "{'a': 5, 'abstract': 1, 'an': 3, 'array': 2, 'associative': 1, 'be': 1, 'buckets': 1, 'can': 2, 'compute': 1, 'computing': 1, 'data': 2, 'desired': 1, 'found': 1, 'from': 1, 'function': 1, 'hash': 4, 'implements': 1, 'in': 1, 'index': 1, 'into': 1, 'is': 1, 'keys': 1, 'map': 2, 'of': 1, 'or': 1, 'slots': 1, 'structure': 2, 'table': 2, 'that': 1, 'the': 1, 'to': 2, 'type': 1, 'uses': 1, 'value': 1, 'values': 1, 'which': 2}\n"
     ]
    }
   ],
   "source": [
    "import re\n",
    "\n",
    "a_text = 'In computing, a hash table hash map is a data structure which implements an associative array abstract data type, a structure that can map keys to values. A hash table uses a hash function to compute an index into an array of buckets or slots from which the desired value can be found'\n",
    "\n",
    "def distinct_words(s):\n",
    "    my_dict = {}\n",
    "    \n",
    "    # get rid of puntuation marks. make every word lowercase. \n",
    "    # split by whitespace to get every word in a list. sort the list in alphabetical order\n",
    "    words = sorted(re.sub('[^\\w\\s]','',s).lower().split())\n",
    "\n",
    "    for word in words:\n",
    "        if word not in my_dict:\n",
    "            my_dict[word] = 1\n",
    "        else:\n",
    "            my_dict[word] += 1\n",
    "\n",
    "    return my_dict\n",
    "\n",
    "print(distinct_words(a_text))\n"
   ]
  },
  {
   "cell_type": "markdown",
   "metadata": {},
   "source": [
    "## Exercise #3\n",
    "\n",
    "Write a program to implement a Linear Search Algorithm.\n",
    "\n",
    "#### Hint: Linear Searching will require searching a list for a given number. "
   ]
  },
  {
   "cell_type": "code",
   "execution_count": 63,
   "metadata": {},
   "outputs": [
    {
     "name": "stdout",
     "output_type": "stream",
     "text": [
      "2 has been found!\n",
      "6 is not in the list!\n",
      "2 has been found! Its in index 1.\n",
      "6 is not in the list!\n"
     ]
    }
   ],
   "source": [
    "# These two functions are linear time because you are looping through a list. \n",
    "# Worst case secenario you would need loop through the whole list so our runtime is O(n)\n",
    "\n",
    "def find_num(lst, target):\n",
    "    for item in lst:\n",
    "        if item == target:\n",
    "            return f\"{target} has been found!\"\n",
    "    return f\"{target} is not in the list!\"\n",
    "\n",
    "def find_index(lst, target):\n",
    "    for i in range(len(lst)):\n",
    "        if lst[i] == target:\n",
    "            return f\"{target} has been found! Its in index {i}.\"\n",
    "    return f\"{target} is not in the list!\"\n",
    "\n",
    "nums = [1,2,3,4,5]\n",
    "print(find_num(nums, 2))\n",
    "print(find_num(nums, 6))\n",
    "print(find_index(nums, 2))\n",
    "print(find_index(nums, 6))"
   ]
  },
  {
   "cell_type": "markdown",
   "metadata": {},
   "source": [
    "## Optimize old codes"
   ]
  },
  {
   "cell_type": "markdown",
   "metadata": {},
   "source": [
    "### <a href = 'https://leetcode.com/problems/two-sum/'>Two Sum"
   ]
  },
  {
   "cell_type": "code",
   "execution_count": 113,
   "metadata": {},
   "outputs": [
    {
     "name": "stdout",
     "output_type": "stream",
     "text": [
      "OG Function Solution: [0, 1]\n",
      "Runtime: 0.0005371570587158203\n",
      "\n",
      "Optimized Function Solution: [0, 1]\n",
      "Runtime: 0.0004069805145263672\n",
      "\n"
     ]
    }
   ],
   "source": [
    "import time\n",
    "\n",
    "# OG Solution: Quadratic Time\n",
    "# index i = first element \n",
    "# index j = last element\n",
    "# if i + j != target, decrement j by 1\n",
    "# when number at index i checked with the rest of the numbers, \n",
    "# increment i by 1 then start the search again\n",
    "# uses two loops so its O(n^2) time\n",
    "def twoSum(nums, target):\n",
    "    j = len(nums)-1\n",
    "    for i in range(len(nums)-1):\n",
    "        while j > i:\n",
    "            if nums[i]+nums[j] == target:\n",
    "                return [i,j]\n",
    "            else:\n",
    "                j -= 1\n",
    "        j = len(nums)-1\n",
    "    return []\n",
    "\n",
    "\n",
    "# Optimized Solution: Linear Time\n",
    "# use dictionaries to input numbers we visited so we dont have to loop back to find it\n",
    "# since we only use one loop, this is O(n) time\n",
    "def twoSum2(nums, target):\n",
    "    my_dict = {}\n",
    "    for i in range(len(nums)):\n",
    "        match = target - nums[i]\n",
    "        if match not in my_dict:\n",
    "            my_dict[nums[i]] = i\n",
    "        else:\n",
    "            return [my_dict[match],i]\n",
    "\n",
    "    return []\n",
    "\n",
    "nums = [2,7,11,15,20,23,1,18,10,90,100,56,25,33]\n",
    "target = 9\n",
    "\n",
    "start = time.time()\n",
    "sol1 = twoSum(nums,target)\n",
    "end = time.time()\n",
    "print(f\"OG Function Solution: {sol1}\\nRuntime: {end-start}\\n\")\n",
    "\n",
    "start = time.time()\n",
    "sol2 = twoSum2(nums,target)\n",
    "end = time.time()\n",
    "print(f\"Optimized Function Solution: {sol2}\\nRuntime: {end-start}\\n\")"
   ]
  },
  {
   "cell_type": "markdown",
   "metadata": {},
   "source": [
    "### <a href = https://www.codewars.com/kata/5ce399e0047a45001c853c2b>Sums of Parts"
   ]
  },
  {
   "cell_type": "code",
   "execution_count": 131,
   "metadata": {},
   "outputs": [
    {
     "name": "stdout",
     "output_type": "stream",
     "text": [
      "OG Function Solution: [111, 111, 110, 107, 101, 91, 87, 67, 0]\n",
      "Runtime: 0.00014781951904296875\n",
      "\n",
      "Optimized Function Solution: [111, 111, 110, 107, 101, 91, 87, 67, 0]\n",
      "Runtime: 0.0001518726348876953\n",
      "\n"
     ]
    }
   ],
   "source": [
    "# OG Solution: Quadratic Time\n",
    "# This solution is O(n^2) time because while we are looping, \n",
    "# we are using the concatenation operation. This operation creates a new list\n",
    "# because we have to reassign indicies. Runtime of the concatenation function is O(n)\n",
    "def parts_sums(ls):\n",
    "    sol = [0]\n",
    "\n",
    "    while ls:\n",
    "        x = ls.pop()\n",
    "        sol = [x+sol[0]] + sol\n",
    "\n",
    "    return sol\n",
    "    \n",
    "# Optimized Solution: Linear Time \n",
    "# This solution is O(n) time because inside our loop we are appending instead of concatenating. \n",
    "# Runtime for the append operation is O(1)\n",
    "def parts_sums2(ls):\n",
    "    sol = [0]\n",
    "    \n",
    "    while ls:\n",
    "        x = ls.pop()\n",
    "        sol.append(x+sol[-1])\n",
    "        \n",
    "    return sol[::-1]\n",
    "\n",
    "ls = [0, 1, 3, 6, 10,4,20,67]\n",
    "start = time.time()\n",
    "sol1 = parts_sums(ls)\n",
    "end = time.time()\n",
    "print(f\"OG Function Solution: {sol1}\\nRuntime: {end-start}\\n\")\n",
    "\n",
    "ls = [0, 1, 3, 6, 10,4,20,67]\n",
    "start = time.time()\n",
    "sol2 = parts_sums2(ls)\n",
    "end = time.time()\n",
    "print(f\"Optimized Function Solution: {sol2}\\nRuntime: {end-start}\\n\")"
   ]
  }
 ],
 "metadata": {
  "kernelspec": {
   "display_name": "Python 3 (ipykernel)",
   "language": "python",
   "name": "python3"
  },
  "language_info": {
   "codemirror_mode": {
    "name": "ipython",
    "version": 3
   },
   "file_extension": ".py",
   "mimetype": "text/x-python",
   "name": "python",
   "nbconvert_exporter": "python",
   "pygments_lexer": "ipython3",
   "version": "3.9.13"
  }
 },
 "nbformat": 4,
 "nbformat_minor": 2
}
